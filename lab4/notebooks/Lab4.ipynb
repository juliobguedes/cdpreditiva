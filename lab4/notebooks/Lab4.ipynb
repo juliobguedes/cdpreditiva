{
 "cells": [
  {
   "cell_type": "markdown",
   "metadata": {
    "colab_type": "text",
    "id": "73Vv6gELm7w8"
   },
   "source": [
    "# Usando Regressão Logística, Árvores de Decisão e Boosting para predição da eleição de deputados"
   ]
  },
  {
   "cell_type": "markdown",
   "metadata": {
    "colab_type": "text",
    "id": "8vSnu8dap4Wi"
   },
   "source": [
    "* Imports gerais\n",
    "* Modelos\n",
    "* Métricas de avaliação"
   ]
  },
  {
   "cell_type": "code",
   "execution_count": 1,
   "metadata": {
    "colab": {},
    "colab_type": "code",
    "id": "HPSkqiGlm4aX"
   },
   "outputs": [],
   "source": [
    "%%capture\n",
    "\n",
    "import pandas as pd\n",
    "import numpy as np\n",
    "from matplotlib import pyplot as plt\n",
    "from scipy.stats import normaltest\n",
    "\n",
    "\n",
    "try:\n",
    "  from google.colab import files, drive\n",
    "  drive.mount('/content/drive')\n",
    "except:\n",
    "  pass"
   ]
  },
  {
   "cell_type": "code",
   "execution_count": 2,
   "metadata": {
    "colab": {},
    "colab_type": "code",
    "id": "6ptix76gn32i"
   },
   "outputs": [],
   "source": [
    "%%capture\n",
    "from sklearn.model_selection import GridSearchCV, cross_validate, train_test_split\n",
    "from sklearn.tree import DecisionTreeClassifier as DTC\n",
    "from sklearn.linear_model import LogisticRegression as LogReg\n",
    "from sklearn.svm import LinearSVC as LSVC\n",
    "from sklearn.ensemble import AdaBoostClassifier, GradientBoostingClassifier"
   ]
  },
  {
   "cell_type": "code",
   "execution_count": 3,
   "metadata": {
    "colab": {},
    "colab_type": "code",
    "id": "sA0Rdt4Qo3V5"
   },
   "outputs": [],
   "source": [
    "%%capture\n",
    "from sklearn.metrics import accuracy_score, auc, confusion_matrix\n",
    "from sklearn.metrics import precision_score, recall_score"
   ]
  },
  {
   "cell_type": "markdown",
   "metadata": {
    "colab_type": "text",
    "id": "a40fhhqirYS2"
   },
   "source": [
    "## Import dos dados\n",
    "\n",
    "Tentamos importar os dados a partir do Google Drive, já que está sendo feito no Google Colaboratory. Caso não seja possível, importa-se os dados a partir da pasta local."
   ]
  },
  {
   "cell_type": "code",
   "execution_count": 4,
   "metadata": {
    "colab": {},
    "colab_type": "code",
    "id": "4rsc-kg9rab9"
   },
   "outputs": [],
   "source": [
    "try:\n",
    "  drv = 'drive/My Drive/CDP/'\n",
    "  treino = pd.read_csv(drv + 'train_cat.csv')\n",
    "  teste = pd.read_csv(drv + 'test_cat.csv')\n",
    "except:\n",
    "  treino = pd.read_csv('train_cat.csv')\n",
    "  teste = pd.read_csv('test_cat.csv')"
   ]
  },
  {
   "cell_type": "code",
   "execution_count": 5,
   "metadata": {
    "colab": {
     "base_uri": "https://localhost:8080/",
     "height": 221
    },
    "colab_type": "code",
    "executionInfo": {
     "elapsed": 1310,
     "status": "ok",
     "timestamp": 1542946237771,
     "user": {
      "displayName": "Julio Barreto Guedes da Costa",
      "photoUrl": "https://lh6.googleusercontent.com/-cpPNnoJopyo/AAAAAAAAAAI/AAAAAAAAACw/DB8tTElSnEI/s64/photo.jpg",
      "userId": "12881271295507388664"
     },
     "user_tz": 180
    },
    "id": "KvwtVLoIttSe",
    "outputId": "53857bd1-405c-4964-d4b3-ee73c6e301e5"
   },
   "outputs": [
    {
     "data": {
      "text/plain": [
       "{dtype('int64'): Index([u'ano', u'sequencial_candidato', u'quantidade_doacoes',\n",
       "        u'quantidade_doadores', u'quantidade_despesas',\n",
       "        u'quantidade_fornecedores'],\n",
       "       dtype='object'),\n",
       " dtype('float64'): Index([u'total_receita', u'media_receita',\n",
       "        u'recursos_de_outros_candidatos.comites',\n",
       "        u'recursos_de_pessoas_fisicas', u'recursos_de_pessoas_juridicas',\n",
       "        u'recursos_proprios', u'recursos_de_partido_politico', u'total_despesa',\n",
       "        u'media_despesa'],\n",
       "       dtype='object'),\n",
       " dtype('O'): Index([u'nome', u'uf', u'partido', u'cargo', u'sexo', u'grau', u'estado_civil',\n",
       "        u'ocupacao', u'situacao'],\n",
       "       dtype='object')}"
      ]
     },
     "execution_count": 5,
     "metadata": {},
     "output_type": "execute_result"
    }
   ],
   "source": [
    "treino.columns.to_series().groupby(treino.dtypes).groups"
   ]
  },
  {
   "cell_type": "markdown",
   "metadata": {
    "colab_type": "text",
    "id": "xPl_FICqrPM5"
   },
   "source": [
    "## Análise dos dados\n",
    "Como analisaremos os dados de treino, é necessário criar funções que sejam reutilizáveis, para permitir que o mesmo procedimento seja realizado em novas etapas do código. Inicialmente, analisaremos a distribuição das variáveis numéricas com a função `analisa_numericas`, aplicando a normalização nos casos necessários, vistos posteriormente.\n",
    "\n",
    "Além dos gráficos, será feita uma verificação matemática para gerar um array no qual serão definidas as variáveis que devem ser normalizadas nos dados de treino e de teste: \n",
    "considera-se a hipótese de que o array segue uma distribuição normal e define-se um limite `alpha=0.0001` ; caso o resultado do teste de normalidade for menor que alpha, a hipótese de seguir a distribuição normal é rejeitada, isto é, os dados não seguem uma distribuição normal."
   ]
  },
  {
   "cell_type": "code",
   "execution_count": null,
   "metadata": {
    "colab": {
     "base_uri": "https://localhost:8080/",
     "height": 1368
    },
    "colab_type": "code",
    "executionInfo": {
     "elapsed": 84505,
     "status": "ok",
     "timestamp": 1542946435177,
     "user": {
      "displayName": "Julio Barreto Guedes da Costa",
      "photoUrl": "https://lh6.googleusercontent.com/-cpPNnoJopyo/AAAAAAAAAAI/AAAAAAAAACw/DB8tTElSnEI/s64/photo.jpg",
      "userId": "12881271295507388664"
     },
     "user_tz": 180
    },
    "id": "7oQja0xFrSui",
    "outputId": "63467d30-4539-4a63-b903-8ca90b773924"
   },
   "outputs": [],
   "source": [
    "def analisa_numericas(df):\n",
    "  plt.figure(figsize=(16,24))\n",
    "  plt.title('Análise das variáveis')\n",
    "  col_numericas = []\n",
    "  col_nao_normais = []\n",
    "  alpha = 1e-3\n",
    "  \n",
    "  for coluna in list(df):\n",
    "    if (isinstance(df[coluna][0], np.int64) or isinstance(df[coluna][0], np.float64)) \\\n",
    "      and coluna != \"ano\" and coluna != \"sequencial_candidato\":\n",
    "      col_numericas.append(coluna)\n",
    "      if normaltest(df[coluna])[1] < alpha:\n",
    "        col_nao_normais.append(coluna)\n",
    "        \n",
    "  for i in range(len(col_numericas)):\n",
    "    coluna = col_numericas[i]\n",
    "    plt.subplot(round(len(col_numericas)/2.0)+1, 2, i+1)\n",
    "    plt.title(coluna)\n",
    "    maxx = int(max(df[coluna]))\n",
    "    plt.hist(df[coluna], maxx)\n",
    "  plt.show()\n",
    "  \n",
    "  return col_nao_normais\n",
    "  \n",
    "colunas = analisa_numericas(treino)"
   ]
  },
  {
   "cell_type": "markdown",
   "metadata": {
    "colab_type": "text",
    "id": "knxSxjoHHFuv"
   },
   "source": [
    "## Manipulação dos Dados"
   ]
  },
  {
   "cell_type": "markdown",
   "metadata": {
    "colab_type": "text",
    "id": "YjNARp1lzKkH"
   },
   "source": [
    "A partir da análise dos gráficos acima, podemos concluir que nenhuma coluna numérica possui seus dados normalizados, e por isso criaremos a função `normaliza_dados`,  que normaliza todas as colunas recebidas e, ao fim, repete a análise gráfica feita acima."
   ]
  },
  {
   "cell_type": "code",
   "execution_count": 0,
   "metadata": {
    "colab": {},
    "colab_type": "code",
    "id": "y_TlzHXfscie"
   },
   "outputs": [],
   "source": [
    "def normaliza_dados(df, colunas):\n",
    "  for col in colunas:\n",
    "    df[col] = np.log(df[col])\n",
    "  analisa_numericas(df)\n",
    "  return df\n",
    "  \n",
    "    \n",
    "treino = normaliza_dados(treino, colunas)"
   ]
  },
  {
   "cell_type": "markdown",
   "metadata": {
    "colab_type": "text",
    "id": "3Ot_frHMDytz"
   },
   "source": [
    "Agora que todos os dados numéricos passaram por uma normalização, podemos iniciar a análise dos dados não numéricos. Assim como no lab anterior, iremos descartar a coluna com os nomes dos deputados por não fazer sentido que o nome beneficie ou prejudique a eleição de um deputado."
   ]
  },
  {
   "cell_type": "code",
   "execution_count": 0,
   "metadata": {
    "colab": {},
    "colab_type": "code",
    "id": "evo1lWvd5Edc"
   },
   "outputs": [],
   "source": [
    "try:\n",
    "  treino = treino.drop('ocupacao', axis=1)\n",
    "  teste = teste.drop('ocupacao', axis=1)\n",
    "  treino = treino.drop('nome', axis=1)\n",
    "  teste = teste.drop('nome', axis=1)\n",
    "except:\n",
    "  pass"
   ]
  },
  {
   "cell_type": "markdown",
   "metadata": {
    "colab_type": "text",
    "id": "i8r_36ukDLRJ"
   },
   "source": [
    "Em seguida, transformamos todas as colunas de fatores em variáveis dummy"
   ]
  },
  {
   "cell_type": "code",
   "execution_count": 0,
   "metadata": {
    "colab": {},
    "colab_type": "code",
    "id": "fZxnxL1aDWqE"
   },
   "outputs": [],
   "source": [
    "def transforma_fatores(df):\n",
    "  fatores = ['ano', 'uf', 'partido', 'cargo', 'sexo', 'estado_civil']\n",
    "  for fator in fatores:\n",
    "    df = pd.concat([df, pd.get_dummies(df[fator])], axis=1)\n",
    "    df = df.drop(fator, axis=1)\n",
    "  return df\n",
    "\n",
    "treino = transforma_fatores(treino)"
   ]
  },
  {
   "cell_type": "markdown",
   "metadata": {
    "colab_type": "text",
    "id": "mhFjy80jGYWI"
   },
   "source": [
    "Como a escolaridade é um fator que, quanto maior, mais impacto, a codificamos de uma forma diferente, seguindo a função abaixo."
   ]
  },
  {
   "cell_type": "code",
   "execution_count": 0,
   "metadata": {
    "colab": {},
    "colab_type": "code",
    "id": "8gRGHH2dGfi7"
   },
   "outputs": [],
   "source": [
    "def codifica_escolaridade(dataframe):\n",
    "  niv_escolaridade = {'LÊ E ESCREVE': 0, 'ENSINO FUNDAMENTAL INCOMPLETO': 1,\n",
    "                      'ENSINO FUNDAMENTAL COMPLETO': 2,\n",
    "                      'ENSINO MÉDIO INCOMPLETO': 3, 'ENSINO MÉDIO COMPLETO': 4,\n",
    "                      'SUPERIOR INCOMPLETO': 5, 'SUPERIOR COMPLETO': 6}\n",
    "\n",
    "  ordenar_grau = []\n",
    "\n",
    "  for i, row in dataframe.iterrows():\n",
    "      ordenar_grau.append(niv_escolaridade[row['grau']])\n",
    "\n",
    "  dataframe['grau'] = ordenar_grau\n",
    "  return dataframe\n",
    "\n",
    "treino = codifica_escolaridade(treino)"
   ]
  },
  {
   "cell_type": "markdown",
   "metadata": {
    "colab_type": "text",
    "id": "lfU7CNwqHUYW"
   },
   "source": [
    "## Treinando os modelos"
   ]
  },
  {
   "cell_type": "code",
   "execution_count": 0,
   "metadata": {
    "colab": {},
    "colab_type": "code",
    "id": "q_vVfOTDHpO9"
   },
   "outputs": [],
   "source": [
    "treino.head()"
   ]
  },
  {
   "cell_type": "code",
   "execution_count": 0,
   "metadata": {
    "colab": {},
    "colab_type": "code",
    "id": "U5dwIrZoHT8u"
   },
   "outputs": [],
   "source": [
    "tree = DTC()\n",
    "x, y = treino.drop('situacao', axis=1), treino['situacao']\n",
    "x_treino, x_teste, y_treino, y_teste = train_test_split(x,y, test_size=0.3)\n",
    "\n",
    "tree.fit(x_treino, y_treino)\n",
    "pred = tree.predict(x_test)"
   ]
  },
  {
   "cell_type": "code",
   "execution_count": 0,
   "metadata": {
    "colab": {},
    "colab_type": "code",
    "id": "Bx0xd8pFJJNr"
   },
   "outputs": [],
   "source": [
    "acc = accuracy_score(y_teste, pred, normalize = False)\n",
    "prec = precision_score(y_teste, pred, normalize = False)\n",
    "recall = recall_score(y_teste, pred, normalize = False)\n",
    "print(acc, prec, recall)"
   ]
  },
  {
   "cell_type": "code",
   "execution_count": 0,
   "metadata": {
    "colab": {},
    "colab_type": "code",
    "id": "JqOWij2cJJxy"
   },
   "outputs": [],
   "source": []
  }
 ],
 "metadata": {
  "accelerator": "GPU",
  "colab": {
   "collapsed_sections": [],
   "name": "Lab4.ipynb",
   "provenance": [],
   "version": "0.3.2"
  },
  "kernelspec": {
   "display_name": "Python 2",
   "language": "python",
   "name": "python2"
  },
  "language_info": {
   "codemirror_mode": {
    "name": "ipython",
    "version": 2
   },
   "file_extension": ".py",
   "mimetype": "text/x-python",
   "name": "python",
   "nbconvert_exporter": "python",
   "pygments_lexer": "ipython2",
   "version": "2.7.15"
  }
 },
 "nbformat": 4,
 "nbformat_minor": 1
}
